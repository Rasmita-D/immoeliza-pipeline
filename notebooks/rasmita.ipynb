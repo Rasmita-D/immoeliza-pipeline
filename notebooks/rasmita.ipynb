{
 "cells": [
  {
   "cell_type": "markdown",
   "metadata": {},
   "source": [
    "Data cleaning"
   ]
  },
  {
   "cell_type": "code",
   "execution_count": 638,
   "metadata": {},
   "outputs": [],
   "source": [
    "import pandas as pd\n",
    "import numpy as np"
   ]
  },
  {
   "cell_type": "code",
   "execution_count": 639,
   "metadata": {},
   "outputs": [],
   "source": [
    "df=pd.read_csv('../data/sample.csv')"
   ]
  },
  {
   "cell_type": "code",
   "execution_count": 640,
   "metadata": {},
   "outputs": [
    {
     "data": {
      "text/html": [
       "<div>\n",
       "<style scoped>\n",
       "    .dataframe tbody tr th:only-of-type {\n",
       "        vertical-align: middle;\n",
       "    }\n",
       "\n",
       "    .dataframe tbody tr th {\n",
       "        vertical-align: top;\n",
       "    }\n",
       "\n",
       "    .dataframe thead th {\n",
       "        text-align: right;\n",
       "    }\n",
       "</style>\n",
       "<table border=\"1\" class=\"dataframe\">\n",
       "  <thead>\n",
       "    <tr style=\"text-align: right;\">\n",
       "      <th></th>\n",
       "      <th>Property ID</th>\n",
       "      <th>Locality name</th>\n",
       "      <th>Postal code</th>\n",
       "      <th>price</th>\n",
       "      <th>Type of property</th>\n",
       "      <th>Subtype of property</th>\n",
       "      <th>Construction year</th>\n",
       "      <th>Number of rooms</th>\n",
       "      <th>Surface of the plot</th>\n",
       "      <th>Living area</th>\n",
       "      <th>...</th>\n",
       "      <th>Garden orientation</th>\n",
       "      <th>Number of facades</th>\n",
       "      <th>Swimming pool</th>\n",
       "      <th>State of builing</th>\n",
       "      <th>Energy class</th>\n",
       "      <th>Primary energy consumption</th>\n",
       "      <th>Heating type</th>\n",
       "      <th>Flood zone type</th>\n",
       "      <th>Double glazing</th>\n",
       "      <th>cadastral_income</th>\n",
       "    </tr>\n",
       "  </thead>\n",
       "  <tbody>\n",
       "    <tr>\n",
       "      <th>0</th>\n",
       "      <td>20394069</td>\n",
       "      <td>Tienen</td>\n",
       "      <td>3300</td>\n",
       "      <td>184000</td>\n",
       "      <td>apartment</td>\n",
       "      <td>NaN</td>\n",
       "      <td>1972.0</td>\n",
       "      <td>2.0</td>\n",
       "      <td>NaN</td>\n",
       "      <td>81.0</td>\n",
       "      <td>...</td>\n",
       "      <td>NaN</td>\n",
       "      <td>4.0</td>\n",
       "      <td>NaN</td>\n",
       "      <td>To renovate</td>\n",
       "      <td>C</td>\n",
       "      <td>202.0</td>\n",
       "      <td>Gas</td>\n",
       "      <td>Non flood zone</td>\n",
       "      <td>Yes</td>\n",
       "      <td>755.0</td>\n",
       "    </tr>\n",
       "    <tr>\n",
       "      <th>1</th>\n",
       "      <td>20393142</td>\n",
       "      <td>Ninove</td>\n",
       "      <td>9400</td>\n",
       "      <td>299000</td>\n",
       "      <td>apartment</td>\n",
       "      <td>NaN</td>\n",
       "      <td>2006.0</td>\n",
       "      <td>3.0</td>\n",
       "      <td>NaN</td>\n",
       "      <td>153.0</td>\n",
       "      <td>...</td>\n",
       "      <td>NaN</td>\n",
       "      <td>2.0</td>\n",
       "      <td>NaN</td>\n",
       "      <td>Good</td>\n",
       "      <td>A</td>\n",
       "      <td>92.0</td>\n",
       "      <td>Fuel oil</td>\n",
       "      <td>Non flood zone</td>\n",
       "      <td>Yes</td>\n",
       "      <td>1054.0</td>\n",
       "    </tr>\n",
       "    <tr>\n",
       "      <th>2</th>\n",
       "      <td>20393714</td>\n",
       "      <td>Ronse</td>\n",
       "      <td>9600</td>\n",
       "      <td>465000</td>\n",
       "      <td>house</td>\n",
       "      <td>NaN</td>\n",
       "      <td>1962.0</td>\n",
       "      <td>4.0</td>\n",
       "      <td>800.0</td>\n",
       "      <td>389.0</td>\n",
       "      <td>...</td>\n",
       "      <td>South</td>\n",
       "      <td>4.0</td>\n",
       "      <td>NaN</td>\n",
       "      <td>To be done up</td>\n",
       "      <td>B</td>\n",
       "      <td>175.0</td>\n",
       "      <td>Gas</td>\n",
       "      <td>Non flood zone</td>\n",
       "      <td>Yes</td>\n",
       "      <td>1971.0</td>\n",
       "    </tr>\n",
       "    <tr>\n",
       "      <th>3</th>\n",
       "      <td>20394068</td>\n",
       "      <td>Brussel</td>\n",
       "      <td>1000</td>\n",
       "      <td>210000</td>\n",
       "      <td>apartment</td>\n",
       "      <td>NaN</td>\n",
       "      <td>2013.0</td>\n",
       "      <td>1.0</td>\n",
       "      <td>NaN</td>\n",
       "      <td>59.0</td>\n",
       "      <td>...</td>\n",
       "      <td>NaN</td>\n",
       "      <td>2.0</td>\n",
       "      <td>NaN</td>\n",
       "      <td>Good</td>\n",
       "      <td>E</td>\n",
       "      <td>234.0</td>\n",
       "      <td>Electric</td>\n",
       "      <td>Possible flood zone</td>\n",
       "      <td>Yes</td>\n",
       "      <td>920.0</td>\n",
       "    </tr>\n",
       "    <tr>\n",
       "      <th>4</th>\n",
       "      <td>20394202</td>\n",
       "      <td>Turnhout</td>\n",
       "      <td>2300</td>\n",
       "      <td>299000</td>\n",
       "      <td>apartment</td>\n",
       "      <td>NaN</td>\n",
       "      <td>2006.0</td>\n",
       "      <td>3.0</td>\n",
       "      <td>NaN</td>\n",
       "      <td>114.0</td>\n",
       "      <td>...</td>\n",
       "      <td>NaN</td>\n",
       "      <td>NaN</td>\n",
       "      <td>NaN</td>\n",
       "      <td>Good</td>\n",
       "      <td>B</td>\n",
       "      <td>147.0</td>\n",
       "      <td>Gas</td>\n",
       "      <td>Non flood zone</td>\n",
       "      <td>Yes</td>\n",
       "      <td>NaN</td>\n",
       "    </tr>\n",
       "  </tbody>\n",
       "</table>\n",
       "<p>5 rows × 25 columns</p>\n",
       "</div>"
      ],
      "text/plain": [
       "   Property ID Locality name  Postal code   price Type of property  \\\n",
       "0     20394069        Tienen         3300  184000        apartment   \n",
       "1     20393142        Ninove         9400  299000        apartment   \n",
       "2     20393714         Ronse         9600  465000            house   \n",
       "3     20394068       Brussel         1000  210000        apartment   \n",
       "4     20394202      Turnhout         2300  299000        apartment   \n",
       "\n",
       "   Subtype of property  Construction year  Number of rooms  \\\n",
       "0                  NaN             1972.0              2.0   \n",
       "1                  NaN             2006.0              3.0   \n",
       "2                  NaN             1962.0              4.0   \n",
       "3                  NaN             2013.0              1.0   \n",
       "4                  NaN             2006.0              3.0   \n",
       "\n",
       "   Surface of the plot  Living area  ... Garden orientation  \\\n",
       "0                  NaN         81.0  ...                NaN   \n",
       "1                  NaN        153.0  ...                NaN   \n",
       "2                800.0        389.0  ...              South   \n",
       "3                  NaN         59.0  ...                NaN   \n",
       "4                  NaN        114.0  ...                NaN   \n",
       "\n",
       "   Number of facades  Swimming pool  State of builing  Energy class  \\\n",
       "0                4.0            NaN       To renovate             C   \n",
       "1                2.0            NaN              Good             A   \n",
       "2                4.0            NaN     To be done up             B   \n",
       "3                2.0            NaN              Good             E   \n",
       "4                NaN            NaN              Good             B   \n",
       "\n",
       "  Primary energy consumption  Heating type      Flood zone type  \\\n",
       "0                      202.0           Gas       Non flood zone   \n",
       "1                       92.0      Fuel oil       Non flood zone   \n",
       "2                      175.0           Gas       Non flood zone   \n",
       "3                      234.0      Electric  Possible flood zone   \n",
       "4                      147.0           Gas       Non flood zone   \n",
       "\n",
       "  Double glazing cadastral_income  \n",
       "0            Yes            755.0  \n",
       "1            Yes           1054.0  \n",
       "2            Yes           1971.0  \n",
       "3            Yes            920.0  \n",
       "4            Yes              NaN  \n",
       "\n",
       "[5 rows x 25 columns]"
      ]
     },
     "execution_count": 640,
     "metadata": {},
     "output_type": "execute_result"
    }
   ],
   "source": [
    "df.head()"
   ]
  },
  {
   "cell_type": "code",
   "execution_count": 641,
   "metadata": {},
   "outputs": [
    {
     "data": {
      "text/plain": [
       "Index(['Property ID', 'Locality name', 'Postal code', 'price',\n",
       "       'Type of property', 'Subtype of property', 'Construction year',\n",
       "       'Number of rooms', 'Surface of the plot', 'Living area', 'kitchen',\n",
       "       'furnished', 'Open fire', 'Terrace', 'Garden', 'Garden orientation',\n",
       "       'Number of facades', 'Swimming pool', 'State of builing',\n",
       "       'Energy class', 'Primary energy consumption', 'Heating type',\n",
       "       'Flood zone type', 'Double glazing', 'cadastral_income'],\n",
       "      dtype='object')"
      ]
     },
     "execution_count": 641,
     "metadata": {},
     "output_type": "execute_result"
    }
   ],
   "source": [
    "df.columns"
   ]
  },
  {
   "cell_type": "code",
   "execution_count": 642,
   "metadata": {},
   "outputs": [],
   "source": [
    "df=df.drop(['Locality name','Subtype of property','Surface of the plot', 'Garden orientation','Energy class'],axis=1)\n",
    "df=df.drop_duplicates(subset=['Property ID'])"
   ]
  },
  {
   "cell_type": "code",
   "execution_count": 643,
   "metadata": {},
   "outputs": [
    {
     "data": {
      "text/html": [
       "<div>\n",
       "<style scoped>\n",
       "    .dataframe tbody tr th:only-of-type {\n",
       "        vertical-align: middle;\n",
       "    }\n",
       "\n",
       "    .dataframe tbody tr th {\n",
       "        vertical-align: top;\n",
       "    }\n",
       "\n",
       "    .dataframe thead th {\n",
       "        text-align: right;\n",
       "    }\n",
       "</style>\n",
       "<table border=\"1\" class=\"dataframe\">\n",
       "  <thead>\n",
       "    <tr style=\"text-align: right;\">\n",
       "      <th></th>\n",
       "      <th>Property ID</th>\n",
       "      <th>Postal code</th>\n",
       "      <th>price</th>\n",
       "      <th>Construction year</th>\n",
       "      <th>Number of rooms</th>\n",
       "      <th>Living area</th>\n",
       "      <th>furnished</th>\n",
       "      <th>Open fire</th>\n",
       "      <th>Terrace</th>\n",
       "      <th>Garden</th>\n",
       "      <th>Number of facades</th>\n",
       "      <th>Swimming pool</th>\n",
       "      <th>Primary energy consumption</th>\n",
       "      <th>cadastral_income</th>\n",
       "    </tr>\n",
       "  </thead>\n",
       "  <tbody>\n",
       "    <tr>\n",
       "      <th>count</th>\n",
       "      <td>7.100000e+01</td>\n",
       "      <td>71.000000</td>\n",
       "      <td>7.100000e+01</td>\n",
       "      <td>60.000000</td>\n",
       "      <td>70.000000</td>\n",
       "      <td>70.000000</td>\n",
       "      <td>25.000000</td>\n",
       "      <td>1.0</td>\n",
       "      <td>36.000000</td>\n",
       "      <td>14.000000</td>\n",
       "      <td>51.000000</td>\n",
       "      <td>13.0</td>\n",
       "      <td>69.000000</td>\n",
       "      <td>44.000000</td>\n",
       "    </tr>\n",
       "    <tr>\n",
       "      <th>mean</th>\n",
       "      <td>2.039293e+07</td>\n",
       "      <td>5851.549296</td>\n",
       "      <td>3.861570e+05</td>\n",
       "      <td>1982.950000</td>\n",
       "      <td>2.485714</td>\n",
       "      <td>137.200000</td>\n",
       "      <td>0.200000</td>\n",
       "      <td>1.0</td>\n",
       "      <td>20.833333</td>\n",
       "      <td>454.214286</td>\n",
       "      <td>2.411765</td>\n",
       "      <td>0.0</td>\n",
       "      <td>197.043478</td>\n",
       "      <td>1020.136364</td>\n",
       "    </tr>\n",
       "    <tr>\n",
       "      <th>std</th>\n",
       "      <td>2.593229e+03</td>\n",
       "      <td>3269.662524</td>\n",
       "      <td>2.224370e+05</td>\n",
       "      <td>33.299069</td>\n",
       "      <td>0.959209</td>\n",
       "      <td>82.086663</td>\n",
       "      <td>0.408248</td>\n",
       "      <td>NaN</td>\n",
       "      <td>30.282008</td>\n",
       "      <td>416.175846</td>\n",
       "      <td>0.697896</td>\n",
       "      <td>0.0</td>\n",
       "      <td>120.454218</td>\n",
       "      <td>624.063041</td>\n",
       "    </tr>\n",
       "    <tr>\n",
       "      <th>min</th>\n",
       "      <td>2.038088e+07</td>\n",
       "      <td>1000.000000</td>\n",
       "      <td>9.900000e+04</td>\n",
       "      <td>1899.000000</td>\n",
       "      <td>1.000000</td>\n",
       "      <td>35.000000</td>\n",
       "      <td>0.000000</td>\n",
       "      <td>1.0</td>\n",
       "      <td>1.000000</td>\n",
       "      <td>25.000000</td>\n",
       "      <td>2.000000</td>\n",
       "      <td>0.0</td>\n",
       "      <td>29.000000</td>\n",
       "      <td>294.000000</td>\n",
       "    </tr>\n",
       "    <tr>\n",
       "      <th>25%</th>\n",
       "      <td>2.039314e+07</td>\n",
       "      <td>2570.000000</td>\n",
       "      <td>2.465000e+05</td>\n",
       "      <td>1964.500000</td>\n",
       "      <td>2.000000</td>\n",
       "      <td>81.250000</td>\n",
       "      <td>0.000000</td>\n",
       "      <td>1.0</td>\n",
       "      <td>6.750000</td>\n",
       "      <td>93.500000</td>\n",
       "      <td>2.000000</td>\n",
       "      <td>0.0</td>\n",
       "      <td>92.000000</td>\n",
       "      <td>660.500000</td>\n",
       "    </tr>\n",
       "    <tr>\n",
       "      <th>50%</th>\n",
       "      <td>2.039412e+07</td>\n",
       "      <td>8000.000000</td>\n",
       "      <td>3.100000e+05</td>\n",
       "      <td>1987.500000</td>\n",
       "      <td>2.000000</td>\n",
       "      <td>108.000000</td>\n",
       "      <td>0.000000</td>\n",
       "      <td>1.0</td>\n",
       "      <td>11.000000</td>\n",
       "      <td>365.000000</td>\n",
       "      <td>2.000000</td>\n",
       "      <td>0.0</td>\n",
       "      <td>192.000000</td>\n",
       "      <td>954.500000</td>\n",
       "    </tr>\n",
       "    <tr>\n",
       "      <th>75%</th>\n",
       "      <td>2.039420e+07</td>\n",
       "      <td>8620.000000</td>\n",
       "      <td>4.825000e+05</td>\n",
       "      <td>2009.250000</td>\n",
       "      <td>3.000000</td>\n",
       "      <td>158.250000</td>\n",
       "      <td>0.000000</td>\n",
       "      <td>1.0</td>\n",
       "      <td>21.250000</td>\n",
       "      <td>666.500000</td>\n",
       "      <td>3.000000</td>\n",
       "      <td>0.0</td>\n",
       "      <td>291.000000</td>\n",
       "      <td>1171.250000</td>\n",
       "    </tr>\n",
       "    <tr>\n",
       "      <th>max</th>\n",
       "      <td>2.039424e+07</td>\n",
       "      <td>9820.000000</td>\n",
       "      <td>1.350000e+06</td>\n",
       "      <td>2023.000000</td>\n",
       "      <td>5.000000</td>\n",
       "      <td>426.000000</td>\n",
       "      <td>1.000000</td>\n",
       "      <td>1.0</td>\n",
       "      <td>172.000000</td>\n",
       "      <td>1400.000000</td>\n",
       "      <td>4.000000</td>\n",
       "      <td>0.0</td>\n",
       "      <td>462.000000</td>\n",
       "      <td>4079.000000</td>\n",
       "    </tr>\n",
       "  </tbody>\n",
       "</table>\n",
       "</div>"
      ],
      "text/plain": [
       "        Property ID  Postal code         price  Construction year  \\\n",
       "count  7.100000e+01    71.000000  7.100000e+01          60.000000   \n",
       "mean   2.039293e+07  5851.549296  3.861570e+05        1982.950000   \n",
       "std    2.593229e+03  3269.662524  2.224370e+05          33.299069   \n",
       "min    2.038088e+07  1000.000000  9.900000e+04        1899.000000   \n",
       "25%    2.039314e+07  2570.000000  2.465000e+05        1964.500000   \n",
       "50%    2.039412e+07  8000.000000  3.100000e+05        1987.500000   \n",
       "75%    2.039420e+07  8620.000000  4.825000e+05        2009.250000   \n",
       "max    2.039424e+07  9820.000000  1.350000e+06        2023.000000   \n",
       "\n",
       "       Number of rooms  Living area  furnished  Open fire     Terrace  \\\n",
       "count        70.000000    70.000000  25.000000        1.0   36.000000   \n",
       "mean          2.485714   137.200000   0.200000        1.0   20.833333   \n",
       "std           0.959209    82.086663   0.408248        NaN   30.282008   \n",
       "min           1.000000    35.000000   0.000000        1.0    1.000000   \n",
       "25%           2.000000    81.250000   0.000000        1.0    6.750000   \n",
       "50%           2.000000   108.000000   0.000000        1.0   11.000000   \n",
       "75%           3.000000   158.250000   0.000000        1.0   21.250000   \n",
       "max           5.000000   426.000000   1.000000        1.0  172.000000   \n",
       "\n",
       "            Garden  Number of facades  Swimming pool  \\\n",
       "count    14.000000          51.000000           13.0   \n",
       "mean    454.214286           2.411765            0.0   \n",
       "std     416.175846           0.697896            0.0   \n",
       "min      25.000000           2.000000            0.0   \n",
       "25%      93.500000           2.000000            0.0   \n",
       "50%     365.000000           2.000000            0.0   \n",
       "75%     666.500000           3.000000            0.0   \n",
       "max    1400.000000           4.000000            0.0   \n",
       "\n",
       "       Primary energy consumption  cadastral_income  \n",
       "count                   69.000000         44.000000  \n",
       "mean                   197.043478       1020.136364  \n",
       "std                    120.454218        624.063041  \n",
       "min                     29.000000        294.000000  \n",
       "25%                     92.000000        660.500000  \n",
       "50%                    192.000000        954.500000  \n",
       "75%                    291.000000       1171.250000  \n",
       "max                    462.000000       4079.000000  "
      ]
     },
     "execution_count": 643,
     "metadata": {},
     "output_type": "execute_result"
    }
   ],
   "source": [
    "df.describe()"
   ]
  },
  {
   "cell_type": "code",
   "execution_count": 644,
   "metadata": {},
   "outputs": [
    {
     "data": {
      "text/plain": [
       "Property ID                    0.000000\n",
       "Postal code                    0.000000\n",
       "price                          0.000000\n",
       "Type of property               0.000000\n",
       "Construction year             15.492958\n",
       "Number of rooms                1.408451\n",
       "Living area                    1.408451\n",
       "kitchen                       19.718310\n",
       "furnished                     64.788732\n",
       "Open fire                     98.591549\n",
       "Terrace                       49.295775\n",
       "Garden                        80.281690\n",
       "Number of facades             28.169014\n",
       "Swimming pool                 81.690141\n",
       "State of builing              14.084507\n",
       "Primary energy consumption     2.816901\n",
       "Heating type                  25.352113\n",
       "Flood zone type               15.492958\n",
       "Double glazing                12.676056\n",
       "cadastral_income              38.028169\n",
       "dtype: float64"
      ]
     },
     "execution_count": 644,
     "metadata": {},
     "output_type": "execute_result"
    }
   ],
   "source": [
    "percent_missing = df.isnull().sum() * 100 / len(df)\n",
    "percent_missing"
   ]
  },
  {
   "cell_type": "markdown",
   "metadata": {},
   "source": [
    "Pre processing for training"
   ]
  },
  {
   "cell_type": "code",
   "execution_count": 645,
   "metadata": {},
   "outputs": [],
   "source": [
    "df[\"Garden\"] = np.where(df[\"Garden\"].fillna(0) == 0, 0, 1)\n",
    "df[\"Terrace\"] = np.where(df[\"Terrace\"].fillna(0) == 0, 0, 1)\n",
    "df[\"Open fire\"] = np.where(df[\"Open fire\"].fillna(0) == 0, 0, 1)\n",
    "df[\"furnished\"] = np.where(df[\"furnished\"].fillna(0) == 0, 0, 1)\n",
    "df[\"Swimming pool\"] = np.where(df[\"Swimming pool\"].fillna(0) == 0, 0, 1)\n",
    "\n",
    "\n",
    "df['extra_features']=df[\"Garden\"]+df[\"Terrace\"]+df[\"Open fire\"]+df[\"furnished\"]+df[\"Swimming pool\"]\n",
    "\n",
    "df=df.drop(['Garden','Terrace','Open fire','furnished','Swimming pool'],axis=1)\n",
    "\n",
    "df=df.dropna(subset=['price'])"
   ]
  },
  {
   "cell_type": "code",
   "execution_count": 646,
   "metadata": {},
   "outputs": [],
   "source": [
    "from sklearn.preprocessing import OrdinalEncoder\n",
    "from sklearn.preprocessing import OneHotEncoder\n",
    "import joblib\n"
   ]
  },
  {
   "cell_type": "code",
   "execution_count": null,
   "metadata": {},
   "outputs": [],
   "source": []
  },
  {
   "cell_type": "code",
   "execution_count": 647,
   "metadata": {},
   "outputs": [],
   "source": [
    "df['State of builing']=df['State of builing'].fillna('0')\n",
    "#Encoding the state of building field\n",
    "state_encoder = OrdinalEncoder(categories=[['0','To restore','To renovate','To be done up','Good','Just renovated','As new']])\n",
    "df['State of builing']=state_encoder.fit_transform(df[['State of builing']])\n",
    "joblib.dump(state_encoder,'../utils/state_building_ordinal.pkl')\n",
    "#Replace missing with nan to impute later\n",
    "df['State of builing']=df['State of builing'].replace(0.0,np.nan)\n"
   ]
  },
  {
   "cell_type": "code",
   "execution_count": 648,
   "metadata": {},
   "outputs": [
    {
     "data": {
      "text/plain": [
       "kitchen\n",
       "Installed         29\n",
       "Semi equipped     11\n",
       "Hyper equipped     8\n",
       "1                  7\n",
       "Not installed      2\n",
       "Name: count, dtype: int64"
      ]
     },
     "execution_count": 648,
     "metadata": {},
     "output_type": "execute_result"
    }
   ],
   "source": [
    "df['kitchen'].value_counts()"
   ]
  },
  {
   "cell_type": "code",
   "execution_count": 649,
   "metadata": {},
   "outputs": [],
   "source": [
    "df['kitchen']=df['kitchen'].fillna('0')\n",
    "#Encoding kitchen data\n",
    "encoder = OrdinalEncoder(categories=[['0','Not installed','1','Installed','Semi equipped','Hyper equipped']])\n",
    "df['kitchen']=encoder.fit_transform(df[['kitchen']])\n",
    "joblib.dump(encoder,'../utils/kitchen_ordinal.pkl')\n",
    "#Replace missing with nan to impute later\n",
    "df['kitchen']=df['kitchen'].replace(0.0,np.nan)\n"
   ]
  },
  {
   "cell_type": "code",
   "execution_count": 650,
   "metadata": {},
   "outputs": [
    {
     "data": {
      "text/plain": [
       "0     2.0\n",
       "1     3.0\n",
       "2     5.0\n",
       "3     3.0\n",
       "4     4.0\n",
       "     ... \n",
       "67    3.0\n",
       "68    3.0\n",
       "69    5.0\n",
       "70    NaN\n",
       "71    NaN\n",
       "Name: kitchen, Length: 71, dtype: float64"
      ]
     },
     "execution_count": 650,
     "metadata": {},
     "output_type": "execute_result"
    }
   ],
   "source": [
    "df.kitchen"
   ]
  },
  {
   "cell_type": "code",
   "execution_count": 651,
   "metadata": {},
   "outputs": [
    {
     "data": {
      "text/plain": [
       "Flood zone type\n",
       "Non flood zone         58\n",
       "Possible flood zone     2\n",
       "Name: count, dtype: int64"
      ]
     },
     "execution_count": 651,
     "metadata": {},
     "output_type": "execute_result"
    }
   ],
   "source": [
    "df['Flood zone type'].value_counts()"
   ]
  },
  {
   "cell_type": "code",
   "execution_count": 652,
   "metadata": {},
   "outputs": [],
   "source": [
    "df[\"Flood zone type\"] = np.where(df[\"Flood zone type\"].fillna(0) == 'Possible flood zone', 1, 0)\n"
   ]
  },
  {
   "cell_type": "code",
   "execution_count": 653,
   "metadata": {},
   "outputs": [],
   "source": [
    "\n",
    "from pandas.api.types import is_numeric_dtype\n",
    "with_missing_values=df.columns[df.isna().any()].tolist()\n",
    "missing_numeric=[]\n",
    "for l in with_missing_values:\n",
    "    if is_numeric_dtype(df[l]):\n",
    "        missing_numeric.append(l)\n",
    "    else:\n",
    "        df[l]=df[l].fillna(df[l].mode().values[0])"
   ]
  },
  {
   "cell_type": "code",
   "execution_count": 654,
   "metadata": {},
   "outputs": [
    {
     "data": {
      "text/plain": [
       "Property ID                     int64\n",
       "Postal code                     int64\n",
       "price                           int64\n",
       "Type of property               object\n",
       "Construction year             float64\n",
       "Number of rooms               float64\n",
       "Living area                   float64\n",
       "kitchen                       float64\n",
       "Number of facades             float64\n",
       "State of builing              float64\n",
       "Primary energy consumption    float64\n",
       "Heating type                   object\n",
       "Flood zone type                 int32\n",
       "Double glazing                 object\n",
       "cadastral_income              float64\n",
       "extra_features                  int32\n",
       "dtype: object"
      ]
     },
     "execution_count": 654,
     "metadata": {},
     "output_type": "execute_result"
    }
   ],
   "source": [
    "df.dtypes"
   ]
  },
  {
   "cell_type": "code",
   "execution_count": 655,
   "metadata": {},
   "outputs": [
    {
     "data": {
      "text/plain": [
       "['Construction year',\n",
       " 'Number of rooms',\n",
       " 'Living area',\n",
       " 'kitchen',\n",
       " 'Number of facades',\n",
       " 'State of builing',\n",
       " 'Primary energy consumption',\n",
       " 'cadastral_income']"
      ]
     },
     "execution_count": 655,
     "metadata": {},
     "output_type": "execute_result"
    }
   ],
   "source": [
    "missing_numeric"
   ]
  },
  {
   "cell_type": "code",
   "execution_count": 656,
   "metadata": {},
   "outputs": [],
   "source": [
    "from sklearn.experimental import enable_iterative_imputer\n",
    "from sklearn.impute import IterativeImputer\n",
    "\n",
    "missing_numeric.insert(0,'price')\n",
    "to_impute=df[missing_numeric]\n",
    "\n",
    "imputer = IterativeImputer(max_iter=10, random_state=0)\n",
    "imputed = imputer.fit_transform(to_impute)\n",
    "test=pd.DataFrame(imputed,columns=to_impute.columns)\n",
    "\n",
    "for l in missing_numeric:\n",
    "    df[l]=test[l].to_numpy()"
   ]
  },
  {
   "cell_type": "code",
   "execution_count": 659,
   "metadata": {},
   "outputs": [],
   "source": [
    "#One hot encoding nominal fields-prop type, sub prop type, locality\n",
    "categorical_columns=['Postal code','Type of property','Heating type']\n",
    "ohencoder = OneHotEncoder(drop='first',sparse_output=False)\n",
    "one_hot_encoded = ohencoder.fit_transform(df[categorical_columns])\n",
    "joblib.dump(ohencoder,'../utils/one_hot.pkl')\n",
    "one_hot_df = pd.DataFrame(one_hot_encoded, columns=ohencoder.get_feature_names_out(categorical_columns))\n",
    "\n",
    "# Concatenate the one-hot encoded dataframe with the original dataframe\n",
    "df = pd.concat([df, one_hot_df.set_axis(df.index)], axis=1)\n",
    "\n",
    "# Drop the original categorical columns\n",
    "df = df.drop(categorical_columns, axis=1)\n",
    "\n",
    "    \n",
    "    "
   ]
  }
 ],
 "metadata": {
  "kernelspec": {
   "display_name": "Python 3",
   "language": "python",
   "name": "python3"
  },
  "language_info": {
   "codemirror_mode": {
    "name": "ipython",
    "version": 3
   },
   "file_extension": ".py",
   "mimetype": "text/x-python",
   "name": "python",
   "nbconvert_exporter": "python",
   "pygments_lexer": "ipython3",
   "version": "3.12.6"
  }
 },
 "nbformat": 4,
 "nbformat_minor": 2
}
